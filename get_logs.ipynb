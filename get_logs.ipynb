{
  "nbformat": 4,
  "nbformat_minor": 0,
  "metadata": {
    "colab": {
      "provenance": [],
      "gpuType": "T4"
    },
    "kernelspec": {
      "name": "python3",
      "display_name": "Python 3"
    },
    "language_info": {
      "name": "python"
    },
    "accelerator": "GPU"
  },
  "cells": [
    {
      "cell_type": "code",
      "source": [
        "import pandas as pd\n",
        "from transformers import pipeline\n",
        "from tqdm import tqdm\n",
        "import torch\n",
        "from datasets import load_dataset\n",
        "\n",
        "\n",
        "classifier = pipeline(\"zero-shot-classification\",\n",
        "                     model=\"MoritzLaurer/mDeBERTa-v3-base-mnli-xnli\",\n",
        "                     device=0 if torch.cuda.is_available() else -1)"
      ],
      "metadata": {
        "colab": {
          "base_uri": "https://localhost:8080/"
        },
        "id": "XpFr32HEymHw",
        "outputId": "2499b622-650b-4472-de93-4970429b9219"
      },
      "execution_count": 2,
      "outputs": [
        {
          "output_type": "stream",
          "name": "stderr",
          "text": [
            "Device set to use cuda:0\n"
          ]
        }
      ]
    },
    {
      "cell_type": "code",
      "source": [
        "!pip install -U datasets\n",
        "# Login using e.g. `huggingface-cli login` to access this dataset\n",
        "df = load_dataset(\"ai4privacy/pii-masking-400k\")[\"train\"]\n",
        "df"
      ],
      "metadata": {
        "id": "0AxLnSFh0dnv",
        "colab": {
          "base_uri": "https://localhost:8080/"
        },
        "outputId": "e23b06b5-c650-4f9a-9725-d65958b810d1"
      },
      "execution_count": 3,
      "outputs": [
        {
          "output_type": "stream",
          "name": "stdout",
          "text": [
            "Requirement already satisfied: datasets in /usr/local/lib/python3.11/dist-packages (4.0.0)\n",
            "Requirement already satisfied: filelock in /usr/local/lib/python3.11/dist-packages (from datasets) (3.18.0)\n",
            "Requirement already satisfied: numpy>=1.17 in /usr/local/lib/python3.11/dist-packages (from datasets) (2.0.2)\n",
            "Requirement already satisfied: pyarrow>=15.0.0 in /usr/local/lib/python3.11/dist-packages (from datasets) (18.1.0)\n",
            "Requirement already satisfied: dill<0.3.9,>=0.3.0 in /usr/local/lib/python3.11/dist-packages (from datasets) (0.3.7)\n",
            "Requirement already satisfied: pandas in /usr/local/lib/python3.11/dist-packages (from datasets) (2.2.2)\n",
            "Requirement already satisfied: requests>=2.32.2 in /usr/local/lib/python3.11/dist-packages (from datasets) (2.32.3)\n",
            "Requirement already satisfied: tqdm>=4.66.3 in /usr/local/lib/python3.11/dist-packages (from datasets) (4.67.1)\n",
            "Requirement already satisfied: xxhash in /usr/local/lib/python3.11/dist-packages (from datasets) (3.5.0)\n",
            "Requirement already satisfied: multiprocess<0.70.17 in /usr/local/lib/python3.11/dist-packages (from datasets) (0.70.15)\n",
            "Requirement already satisfied: fsspec<=2025.3.0,>=2023.1.0 in /usr/local/lib/python3.11/dist-packages (from fsspec[http]<=2025.3.0,>=2023.1.0->datasets) (2025.3.0)\n",
            "Requirement already satisfied: huggingface-hub>=0.24.0 in /usr/local/lib/python3.11/dist-packages (from datasets) (0.33.4)\n",
            "Requirement already satisfied: packaging in /usr/local/lib/python3.11/dist-packages (from datasets) (25.0)\n",
            "Requirement already satisfied: pyyaml>=5.1 in /usr/local/lib/python3.11/dist-packages (from datasets) (6.0.2)\n",
            "Requirement already satisfied: aiohttp!=4.0.0a0,!=4.0.0a1 in /usr/local/lib/python3.11/dist-packages (from fsspec[http]<=2025.3.0,>=2023.1.0->datasets) (3.11.15)\n",
            "Requirement already satisfied: typing-extensions>=3.7.4.3 in /usr/local/lib/python3.11/dist-packages (from huggingface-hub>=0.24.0->datasets) (4.14.1)\n",
            "Requirement already satisfied: hf-xet<2.0.0,>=1.1.2 in /usr/local/lib/python3.11/dist-packages (from huggingface-hub>=0.24.0->datasets) (1.1.5)\n",
            "Requirement already satisfied: charset-normalizer<4,>=2 in /usr/local/lib/python3.11/dist-packages (from requests>=2.32.2->datasets) (3.4.2)\n",
            "Requirement already satisfied: idna<4,>=2.5 in /usr/local/lib/python3.11/dist-packages (from requests>=2.32.2->datasets) (3.10)\n",
            "Requirement already satisfied: urllib3<3,>=1.21.1 in /usr/local/lib/python3.11/dist-packages (from requests>=2.32.2->datasets) (2.4.0)\n",
            "Requirement already satisfied: certifi>=2017.4.17 in /usr/local/lib/python3.11/dist-packages (from requests>=2.32.2->datasets) (2025.7.14)\n",
            "Requirement already satisfied: python-dateutil>=2.8.2 in /usr/local/lib/python3.11/dist-packages (from pandas->datasets) (2.9.0.post0)\n",
            "Requirement already satisfied: pytz>=2020.1 in /usr/local/lib/python3.11/dist-packages (from pandas->datasets) (2025.2)\n",
            "Requirement already satisfied: tzdata>=2022.7 in /usr/local/lib/python3.11/dist-packages (from pandas->datasets) (2025.2)\n",
            "Requirement already satisfied: aiohappyeyeballs>=2.3.0 in /usr/local/lib/python3.11/dist-packages (from aiohttp!=4.0.0a0,!=4.0.0a1->fsspec[http]<=2025.3.0,>=2023.1.0->datasets) (2.6.1)\n",
            "Requirement already satisfied: aiosignal>=1.1.2 in /usr/local/lib/python3.11/dist-packages (from aiohttp!=4.0.0a0,!=4.0.0a1->fsspec[http]<=2025.3.0,>=2023.1.0->datasets) (1.4.0)\n",
            "Requirement already satisfied: attrs>=17.3.0 in /usr/local/lib/python3.11/dist-packages (from aiohttp!=4.0.0a0,!=4.0.0a1->fsspec[http]<=2025.3.0,>=2023.1.0->datasets) (25.3.0)\n",
            "Requirement already satisfied: frozenlist>=1.1.1 in /usr/local/lib/python3.11/dist-packages (from aiohttp!=4.0.0a0,!=4.0.0a1->fsspec[http]<=2025.3.0,>=2023.1.0->datasets) (1.7.0)\n",
            "Requirement already satisfied: multidict<7.0,>=4.5 in /usr/local/lib/python3.11/dist-packages (from aiohttp!=4.0.0a0,!=4.0.0a1->fsspec[http]<=2025.3.0,>=2023.1.0->datasets) (6.6.3)\n",
            "Requirement already satisfied: propcache>=0.2.0 in /usr/local/lib/python3.11/dist-packages (from aiohttp!=4.0.0a0,!=4.0.0a1->fsspec[http]<=2025.3.0,>=2023.1.0->datasets) (0.3.2)\n",
            "Requirement already satisfied: yarl<2.0,>=1.17.0 in /usr/local/lib/python3.11/dist-packages (from aiohttp!=4.0.0a0,!=4.0.0a1->fsspec[http]<=2025.3.0,>=2023.1.0->datasets) (1.20.1)\n",
            "Requirement already satisfied: six>=1.5 in /usr/local/lib/python3.11/dist-packages (from python-dateutil>=2.8.2->pandas->datasets) (1.17.0)\n"
          ]
        },
        {
          "output_type": "execute_result",
          "data": {
            "text/plain": [
              "Dataset({\n",
              "    features: ['source_text', 'locale', 'language', 'split', 'privacy_mask', 'uid', 'masked_text', 'mbert_tokens', 'mbert_token_classes'],\n",
              "    num_rows: 325517\n",
              "})"
            ]
          },
          "metadata": {},
          "execution_count": 3
        }
      ]
    },
    {
      "cell_type": "code",
      "source": [
        "labels = [\n",
        "    \"development_logs\",\n",
        "    \"application_logs\",\n",
        "    \"corporate_logs\",\n",
        "    \"other_logs\",\n",
        "    \"message\",\n",
        "    \"not_logs\",\n",
        "]\n",
        "\n",
        "texts = list()\n",
        "masks = list()\n",
        "for i in range(10000): # здесь вставить кол-во записей\n",
        "    try:\n",
        "        result = classifier(df[i][\"source_text\"], labels, multi_label=False)\n",
        "        if result['labels'][0] in labels[0:3]:\n",
        "            print(f\"{i:6}/{df.shape[0]} {result['labels'][0]:15} {df[i]['source_text'][:100]}...\")\n",
        "            texts.append(df[i]['source_text'])\n",
        "            masks.append(df[i]['privacy_mask'])\n",
        "    except:\n",
        "        None"
      ],
      "metadata": {
        "colab": {
          "base_uri": "https://localhost:8080/"
        },
        "id": "CwmYSGKMzbVz",
        "outputId": "f7248272-1d09-43a2-d581-cf732242600d",
        "collapsed": true
      },
      "execution_count": 5,
      "outputs": [
        {
          "output_type": "stream",
          "name": "stdout",
          "text": [
            "   188/325517 application_logs Application completeness check: <br> Name: Marah Peyrilles <br> Job Title: Therapist, drama <br> ZIP...\n",
            "   253/325517 corporate_logs  Examination notes residence: 880 Pegglesworth, GL54. Records show 678 606 7954 and financial details...\n",
            "   254/325517 corporate_logs  Doc details: 800 The Vintage Pair, ZIP GL54 2RJ. Age listed: 36. Social documentation 630.722.6794. ...\n",
            "   315/325517 corporate_logs  Therapy check-in: Client Alfried Wohlgenannt, residing at White Springs, FL. Concerns over height (1...\n",
            "   477/325517 development_logs The developmental evaluation of Niranjala Conejera focuses on their ability to engage socially and p...\n",
            "   583/325517 development_logs Mrs Vlada's developmental delay noted. Residence at Kemble Close, CW2 6XN, proximity ([53.0822, -2.4...\n",
            "   623/325517 development_logs <p>fatima.yavru09's medication plan overseen by Business Account. Therapy sessions begin 10/04/2054....\n",
            "   683/325517 development_logs 2    Support Plan    Document outlining individualised support for Tanea, 6. Therapy meets every 5th...\n",
            "   793/325517 development_logs Treatment Plan for patient with schizophrenia:\n",
            "- Administer antipsychotic medication.\n",
            "- Weekly thera...\n",
            "   797/325517 development_logs Personalized treatment outline:\n",
            "- Dispense medication during lunchtime.\n",
            "- Weekly therapy for coping ...\n",
            "   801/325517 development_logs Treatment for psychotic disorders:\n",
            "- Medication before dinner.\n",
            "- Biweekly therapy sessions.\n",
            "- Track ...\n",
            "   802/325517 development_logs Schizophrenic patient care plan:\n",
            "- Medication twice daily.\n",
            "- Weekly therapy.\n",
            "- Track therapeutic pro...\n",
            "   804/325517 development_logs Therapeutic plan for schizophrenia:\n",
            "- Medication every morning.\n",
            "- Weekly therapy sessions.\n",
            "- Regular...\n",
            "   805/325517 development_logs Schizophrenia treatment pathway:\n",
            "- Administer drugs post-lunch.\n",
            "- Biweekly therapy scheduled.\n",
            "- Quar...\n",
            "   807/325517 development_logs Care plan for patient:\n",
            "- Provide antipsychotic meds daily.\n",
            "- Supportive therapy weekly.\n",
            "- Monitor pr...\n",
            "   808/325517 development_logs Personalized care outline:\n",
            "- Dispense medication at dawn.\n",
            "- Biweekly therapy sessions.\n",
            "- Track progr...\n",
            "   825/325517 corporate_logs  2. Export Compliance Report\n",
            "Assessment of the company's adherence to export regulations and trade co...\n",
            "   843/325517 corporate_logs  <html><body><p>Fund Performance: User jhdzvmhiyonunahx273 with account 097592952219627446 recorded g...\n",
            "   844/325517 development_logs <html><body><p>Analysis of fund 1629729153 in Princeton: Performance indicated a growth rate of 957,...\n",
            "   888/325517 application_logs <html><body>2 Satellite Licensing Application Complete licence form for satellite operations. Confir...\n",
            "   890/325517 application_logs <html><body>2 Satellite Licensing Application Complete application for satellite license. Confirm gu...\n",
            "   903/325517 application_logs Applicant Info: <br> Full Name: Mechthilde Haydon <br> Job Title: Engineer, production <br> Account ...\n",
            "   929/325517 corporate_logs  Collective bargaining agreement signed. Mahabad to handle negotiations. Key papers include data on 1...\n",
            "   942/325517 corporate_logs  <p>Ensure all details are correct: Name, Gulalai Oumarou, Address, South Forest Service Road 574, Am...\n",
            "   960/325517 corporate_logs  <p>Fill the form with accurate data: Full name Aizah Ilaria, address Northeast Lenzburg North Road, ...\n",
            "   969/325517 application_logs Focus on insomniac female patient aged 26. Resides at 12, BT23 5LA. Apply sleep hygiene and CBT-I in...\n"
          ]
        }
      ]
    },
    {
      "cell_type": "code",
      "source": [
        "new_data = pd.DataFrame({\n",
        "    \"source_text\": texts,\n",
        "    \"privacy_mask\": masks\n",
        "})\n",
        "new_data.head(10)\n",
        "new_data.to_csv('logs_data.csv', index=None)"
      ],
      "metadata": {
        "id": "8iDk-Z7N1lVC"
      },
      "execution_count": 9,
      "outputs": []
    }
  ]
}